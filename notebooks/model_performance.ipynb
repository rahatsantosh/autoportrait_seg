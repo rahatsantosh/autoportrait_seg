{
 "cells": [
  {
   "cell_type": "markdown",
   "metadata": {},
   "source": [
    "# Model Performance Metrics"
   ]
  },
  {
   "cell_type": "code",
   "execution_count": 1,
   "metadata": {},
   "outputs": [],
   "source": [
    "import pandas as pd\n",
    "import numpy as np\n",
    "import matplotlib.pyplot as plt"
   ]
  },
  {
   "cell_type": "markdown",
   "metadata": {},
   "source": [
    "## Training Logs\n",
    "Finetuned pretrained DeepLabv3 model for 12 epochs."
   ]
  },
  {
   "cell_type": "code",
   "execution_count": 2,
   "metadata": {},
   "outputs": [],
   "source": [
    "df = pd.read_csv('../reports/performance_data/log.csv')\n",
    "df['epochs'] = pd.Series(list(range(len(df))))"
   ]
  },
  {
   "cell_type": "code",
   "execution_count": 3,
   "metadata": {},
   "outputs": [
    {
     "data": {
      "text/html": [
       "<div>\n",
       "<style scoped>\n",
       "    .dataframe tbody tr th:only-of-type {\n",
       "        vertical-align: middle;\n",
       "    }\n",
       "\n",
       "    .dataframe tbody tr th {\n",
       "        vertical-align: top;\n",
       "    }\n",
       "\n",
       "    .dataframe thead th {\n",
       "        text-align: right;\n",
       "    }\n",
       "</style>\n",
       "<table border=\"1\" class=\"dataframe\">\n",
       "  <thead>\n",
       "    <tr style=\"text-align: right;\">\n",
       "      <th></th>\n",
       "      <th>epoch</th>\n",
       "      <th>Train_loss</th>\n",
       "      <th>Test_loss</th>\n",
       "      <th>Train_f1_score</th>\n",
       "      <th>Train_auroc</th>\n",
       "      <th>Test_f1_score</th>\n",
       "      <th>Test_auroc</th>\n",
       "      <th>epochs</th>\n",
       "    </tr>\n",
       "  </thead>\n",
       "  <tbody>\n",
       "    <tr>\n",
       "      <th>0</th>\n",
       "      <td>1</td>\n",
       "      <td>192.086731</td>\n",
       "      <td>180.648499</td>\n",
       "      <td>0.824674</td>\n",
       "      <td>0.411296</td>\n",
       "      <td>0.811239</td>\n",
       "      <td>0.359965</td>\n",
       "      <td>0</td>\n",
       "    </tr>\n",
       "    <tr>\n",
       "      <th>1</th>\n",
       "      <td>2</td>\n",
       "      <td>15.364384</td>\n",
       "      <td>14.600252</td>\n",
       "      <td>0.824666</td>\n",
       "      <td>0.319875</td>\n",
       "      <td>0.811211</td>\n",
       "      <td>0.281242</td>\n",
       "      <td>1</td>\n",
       "    </tr>\n",
       "    <tr>\n",
       "      <th>2</th>\n",
       "      <td>3</td>\n",
       "      <td>1.895125</td>\n",
       "      <td>2.039627</td>\n",
       "      <td>0.795270</td>\n",
       "      <td>0.292826</td>\n",
       "      <td>0.734804</td>\n",
       "      <td>0.308396</td>\n",
       "      <td>2</td>\n",
       "    </tr>\n",
       "    <tr>\n",
       "      <th>3</th>\n",
       "      <td>4</td>\n",
       "      <td>1.201897</td>\n",
       "      <td>1.316017</td>\n",
       "      <td>0.700564</td>\n",
       "      <td>0.350476</td>\n",
       "      <td>0.695561</td>\n",
       "      <td>0.383150</td>\n",
       "      <td>3</td>\n",
       "    </tr>\n",
       "    <tr>\n",
       "      <th>4</th>\n",
       "      <td>5</td>\n",
       "      <td>0.948766</td>\n",
       "      <td>1.009963</td>\n",
       "      <td>0.704603</td>\n",
       "      <td>0.425684</td>\n",
       "      <td>0.723787</td>\n",
       "      <td>0.455629</td>\n",
       "      <td>4</td>\n",
       "    </tr>\n",
       "    <tr>\n",
       "      <th>5</th>\n",
       "      <td>6</td>\n",
       "      <td>0.769186</td>\n",
       "      <td>0.793864</td>\n",
       "      <td>0.737093</td>\n",
       "      <td>0.490363</td>\n",
       "      <td>0.751935</td>\n",
       "      <td>0.514410</td>\n",
       "      <td>5</td>\n",
       "    </tr>\n",
       "    <tr>\n",
       "      <th>6</th>\n",
       "      <td>7</td>\n",
       "      <td>0.626523</td>\n",
       "      <td>0.635749</td>\n",
       "      <td>0.766463</td>\n",
       "      <td>0.543240</td>\n",
       "      <td>0.774870</td>\n",
       "      <td>0.562833</td>\n",
       "      <td>6</td>\n",
       "    </tr>\n",
       "    <tr>\n",
       "      <th>7</th>\n",
       "      <td>8</td>\n",
       "      <td>0.520196</td>\n",
       "      <td>0.521212</td>\n",
       "      <td>0.789797</td>\n",
       "      <td>0.587949</td>\n",
       "      <td>0.792755</td>\n",
       "      <td>0.604135</td>\n",
       "      <td>7</td>\n",
       "    </tr>\n",
       "    <tr>\n",
       "      <th>8</th>\n",
       "      <td>9</td>\n",
       "      <td>0.447657</td>\n",
       "      <td>0.440945</td>\n",
       "      <td>0.806950</td>\n",
       "      <td>0.626345</td>\n",
       "      <td>0.805807</td>\n",
       "      <td>0.640105</td>\n",
       "      <td>8</td>\n",
       "    </tr>\n",
       "    <tr>\n",
       "      <th>9</th>\n",
       "      <td>10</td>\n",
       "      <td>0.391843</td>\n",
       "      <td>0.385983</td>\n",
       "      <td>0.819098</td>\n",
       "      <td>0.659408</td>\n",
       "      <td>0.814979</td>\n",
       "      <td>0.670969</td>\n",
       "      <td>9</td>\n",
       "    </tr>\n",
       "    <tr>\n",
       "      <th>10</th>\n",
       "      <td>11</td>\n",
       "      <td>0.353062</td>\n",
       "      <td>0.347091</td>\n",
       "      <td>0.827980</td>\n",
       "      <td>0.687616</td>\n",
       "      <td>0.821641</td>\n",
       "      <td>0.696632</td>\n",
       "      <td>10</td>\n",
       "    </tr>\n",
       "    <tr>\n",
       "      <th>11</th>\n",
       "      <td>12</td>\n",
       "      <td>0.321116</td>\n",
       "      <td>0.318066</td>\n",
       "      <td>0.834603</td>\n",
       "      <td>0.711264</td>\n",
       "      <td>0.826973</td>\n",
       "      <td>0.718906</td>\n",
       "      <td>11</td>\n",
       "    </tr>\n",
       "  </tbody>\n",
       "</table>\n",
       "</div>"
      ],
      "text/plain": [
       "    epoch  Train_loss   Test_loss  Train_f1_score  Train_auroc  Test_f1_score  \\\n",
       "0       1  192.086731  180.648499        0.824674     0.411296       0.811239   \n",
       "1       2   15.364384   14.600252        0.824666     0.319875       0.811211   \n",
       "2       3    1.895125    2.039627        0.795270     0.292826       0.734804   \n",
       "3       4    1.201897    1.316017        0.700564     0.350476       0.695561   \n",
       "4       5    0.948766    1.009963        0.704603     0.425684       0.723787   \n",
       "5       6    0.769186    0.793864        0.737093     0.490363       0.751935   \n",
       "6       7    0.626523    0.635749        0.766463     0.543240       0.774870   \n",
       "7       8    0.520196    0.521212        0.789797     0.587949       0.792755   \n",
       "8       9    0.447657    0.440945        0.806950     0.626345       0.805807   \n",
       "9      10    0.391843    0.385983        0.819098     0.659408       0.814979   \n",
       "10     11    0.353062    0.347091        0.827980     0.687616       0.821641   \n",
       "11     12    0.321116    0.318066        0.834603     0.711264       0.826973   \n",
       "\n",
       "    Test_auroc  epochs  \n",
       "0     0.359965       0  \n",
       "1     0.281242       1  \n",
       "2     0.308396       2  \n",
       "3     0.383150       3  \n",
       "4     0.455629       4  \n",
       "5     0.514410       5  \n",
       "6     0.562833       6  \n",
       "7     0.604135       7  \n",
       "8     0.640105       8  \n",
       "9     0.670969       9  \n",
       "10    0.696632      10  \n",
       "11    0.718906      11  "
      ]
     },
     "execution_count": 3,
     "metadata": {},
     "output_type": "execute_result"
    }
   ],
   "source": [
    "df.head(12)"
   ]
  },
  {
   "cell_type": "markdown",
   "metadata": {},
   "source": [
    "### Loss"
   ]
  },
  {
   "cell_type": "code",
   "execution_count": 4,
   "metadata": {},
   "outputs": [
    {
     "data": {
      "image/png": "[encoded data removed]",
      "text/plain": [
       "<Figure size 432x288 with 1 Axes>"
      ]
     },
     "metadata": {
      "needs_background": "light"
     },
     "output_type": "display_data"
    }
   ],
   "source": [
    "plt.plot(df[['epochs']], df[['Train_loss']], label='Train')\n",
    "plt.plot(df[['epochs']], df[['Test_loss']], label='Test')\n",
    "plt.title('Model Loss')\n",
    "plt.xlabel('Epochs')\n",
    "plt.ylabel('Loss')\n",
    "plt.legend(loc='best')\n",
    "plt.savefig('../reports/fig/loss_plot.png')\n",
    "plt.show()"
   ]
  },
  {
   "cell_type": "markdown",
   "metadata": {},
   "source": [
    "### F1 Score"
   ]
  },
  {
   "cell_type": "code",
   "execution_count": 5,
   "metadata": {},
   "outputs": [
    {
     "data": {
      "image/png": "[encoded data removed]",
      "text/plain": [
       "<Figure size 432x288 with 1 Axes>"
      ]
     },
     "metadata": {
      "needs_background": "light"
     },
     "output_type": "display_data"
    }
   ],
   "source": [
    "plt.plot(df[['epochs']], df[['Train_f1_score']], label='Train')\n",
    "plt.plot(df[['epochs']], df[['Test_f1_score']], label='Test')\n",
    "plt.title('Model F1 Score')\n",
    "plt.xlabel('Epochs')\n",
    "plt.ylabel('F1')\n",
    "plt.legend(loc='best')\n",
    "plt.savefig('../reports/fig/f1_metric.png')\n",
    "plt.show()"
   ]
  },
  {
   "cell_type": "markdown",
   "metadata": {},
   "source": [
    "### Area Under ROC Curve"
   ]
  },
  {
   "cell_type": "code",
   "execution_count": 6,
   "metadata": {},
   "outputs": [
    {
     "data": {
      "image/png": "[encoded data removed]",
      "text/plain": [
       "<Figure size 432x288 with 1 Axes>"
      ]
     },
     "metadata": {
      "needs_background": "light"
     },
     "output_type": "display_data"
    }
   ],
   "source": [
    "plt.plot(df[['epochs']], df[['Train_auroc']], label='Train')\n",
    "plt.plot(df[['epochs']], df[['Test_auroc']], label='Test')\n",
    "plt.title('Model Area Under ROC curve')\n",
    "plt.xlabel('Epochs')\n",
    "plt.ylabel('AUROC')\n",
    "plt.legend(loc='best')\n",
    "plt.savefig('../reports/fig/auroc_metric.png')\n",
    "plt.show()"
   ]
  },
  {
   "cell_type": "code",
   "execution_count": null,
   "metadata": {},
   "outputs": [],
   "source": []
  }
 ],
 "metadata": {
  "kernelspec": {
   "display_name": "Python 3",
   "language": "python",
   "name": "python3"
  },
  "language_info": {
   "codemirror_mode": {
    "name": "ipython",
    "version": 3
   },
   "file_extension": ".py",
   "mimetype": "text/x-python",
   "name": "python",
   "nbconvert_exporter": "python",
   "pygments_lexer": "ipython3",
   "version": "3.7.8"
  }
 },
 "nbformat": 4,
 "nbformat_minor": 4
}
